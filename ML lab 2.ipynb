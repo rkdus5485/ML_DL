{
 "cells": [
  {
   "cell_type": "code",
   "execution_count": 15,
   "metadata": {},
   "outputs": [],
   "source": [
    "import tensorflow as tf\n",
    "import numpy as np\n",
    "import pandas as pd"
   ]
  },
  {
   "cell_type": "code",
   "execution_count": 16,
   "metadata": {},
   "outputs": [],
   "source": [
    "# X and Y data\n",
    "x_train = [1,2,3]\n",
    "y_train = [1,2,3]\n",
    "\n",
    "W = tf.Variable(tf.random.normal([1]), name='weight')\n",
    "b = tf.Variable(tf.random.normal([1]), name='bias')\n",
    "\n",
    "# our hypothesis Wx + b\n",
    "hypothesis = x_train*W + b"
   ]
  },
  {
   "cell_type": "markdown",
   "metadata": {},
   "source": [
    "#### random normal\n",
    "#### tensorflow 1.x.x version => tf.random_normal([])\n",
    "#### tensorflow 2.x.x version => tf.random.normal([])"
   ]
  },
  {
   "cell_type": "code",
   "execution_count": 17,
   "metadata": {},
   "outputs": [],
   "source": [
    "# cost/lostt function\n",
    "cost = tf.reduce_mean(tf.square(hypothesis - y_train))"
   ]
  },
  {
   "cell_type": "code",
   "execution_count": 18,
   "metadata": {},
   "outputs": [
    {
     "data": {
      "text/plain": [
       "<tf.Operation 'PrintV2' type=PrintV2>"
      ]
     },
     "execution_count": 18,
     "metadata": {},
     "output_type": "execute_result"
    }
   ],
   "source": [
    "tf.print(cost)"
   ]
  },
  {
   "cell_type": "code",
   "execution_count": 19,
   "metadata": {},
   "outputs": [
    {
     "ename": "AttributeError",
     "evalue": "module 'tensorflow._api.v2.train' has no attribute 'GradientDescentOptimizer'",
     "output_type": "error",
     "traceback": [
      "\u001b[1;31m---------------------------------------------------------------------------\u001b[0m",
      "\u001b[1;31mAttributeError\u001b[0m                            Traceback (most recent call last)",
      "\u001b[1;32m<ipython-input-19-9d008c61b0a1>\u001b[0m in \u001b[0;36m<module>\u001b[1;34m\u001b[0m\n\u001b[0;32m      2\u001b[0m \u001b[1;33m\u001b[0m\u001b[0m\n\u001b[0;32m      3\u001b[0m \u001b[1;31m#minimize\u001b[0m\u001b[1;33m\u001b[0m\u001b[1;33m\u001b[0m\u001b[1;33m\u001b[0m\u001b[0m\n\u001b[1;32m----> 4\u001b[1;33m \u001b[0moptimizer\u001b[0m \u001b[1;33m=\u001b[0m \u001b[0mtf\u001b[0m\u001b[1;33m.\u001b[0m\u001b[0mtrain\u001b[0m\u001b[1;33m.\u001b[0m\u001b[0mGradientDescentOptimizer\u001b[0m\u001b[1;33m(\u001b[0m\u001b[0mlearning_rate\u001b[0m\u001b[1;33m=\u001b[0m\u001b[1;36m0.01\u001b[0m\u001b[1;33m)\u001b[0m\u001b[1;33m\u001b[0m\u001b[1;33m\u001b[0m\u001b[0m\n\u001b[0m\u001b[0;32m      5\u001b[0m \u001b[0mtrain\u001b[0m \u001b[1;33m=\u001b[0m \u001b[0moptimizer\u001b[0m\u001b[1;33m.\u001b[0m\u001b[0mminimize\u001b[0m\u001b[1;33m(\u001b[0m\u001b[0mcost\u001b[0m\u001b[1;33m)\u001b[0m\u001b[1;33m\u001b[0m\u001b[1;33m\u001b[0m\u001b[0m\n",
      "\u001b[1;31mAttributeError\u001b[0m: module 'tensorflow._api.v2.train' has no attribute 'GradientDescentOptimizer'"
     ]
    }
   ],
   "source": [
    "# GradientDescent\n",
    "\n",
    "#minimize\n",
    "optimizer = tf.train.GradientDescentOptimizer(learning_rate=0.01)\n",
    "train = optimizer.minimize(cost)"
   ]
  },
  {
   "cell_type": "markdown",
   "metadata": {},
   "source": [
    "### 대부분의 오픈소스가 tensorflow v1으로 작성되어있어 v1 version의 tensorflow를 import 해서 사용"
   ]
  },
  {
   "cell_type": "code",
   "execution_count": 20,
   "metadata": {},
   "outputs": [],
   "source": [
    "import tensorflow.compat.v1 as tf\n",
    "tf.disable_v2_behavior()"
   ]
  },
  {
   "cell_type": "code",
   "execution_count": 21,
   "metadata": {},
   "outputs": [],
   "source": [
    "# X and Y data\n",
    "x_train = [1,2,3]\n",
    "y_train = [1,2,3]\n",
    "\n",
    "W = tf.Variable(tf.random_normal([1]), name='weight')\n",
    "b = tf.Variable(tf.random_normal([1]), name='bias')\n",
    "\n",
    "# our hypothesis Wx + b\n",
    "hypothesis = x_train*W + b"
   ]
  },
  {
   "cell_type": "code",
   "execution_count": 22,
   "metadata": {},
   "outputs": [],
   "source": [
    "# cost/lostt function\n",
    "cost = tf.reduce_mean(tf.square(hypothesis - y_train))"
   ]
  },
  {
   "cell_type": "code",
   "execution_count": 23,
   "metadata": {},
   "outputs": [],
   "source": [
    "# GradientDescent\n",
    "\n",
    "#minimize\n",
    "optimizer = tf.train.GradientDescentOptimizer(learning_rate=0.01)\n",
    "train = optimizer.minimize(cost)"
   ]
  },
  {
   "cell_type": "code",
   "execution_count": 25,
   "metadata": {},
   "outputs": [
    {
     "name": "stdout",
     "output_type": "stream",
     "text": [
      "0 0.81217307 [1.7345059] [-0.7963254]\n",
      "20 0.12083737 [1.4238596] [-0.88036984]\n",
      "40 0.10415417 [1.377647] [-0.8505619]\n",
      "60 0.094543785 [1.3573954] [-0.81168985]\n",
      "80 0.08586574 [1.3403609] [-0.7736484]\n",
      "100 0.077984594 [1.3243424] [-0.7372996]\n",
      "120 0.07082683 [1.3090973] [-0.7026501]\n",
      "140 0.06432607 [1.2945707] [-0.6696283]\n",
      "160 0.058421995 [1.280727] [-0.63815826]\n",
      "180 0.05305979 [1.2675339] [-0.6081672]\n",
      "200 0.048189748 [1.2549608] [-0.5795856]\n",
      "220 0.04376671 [1.2429786] [-0.5523473]\n",
      "240 0.03974963 [1.2315595] [-0.526389]\n",
      "260 0.03610124 [1.2206769] [-0.50165063]\n",
      "280 0.03278772 [1.210306] [-0.47807494]\n",
      "300 0.029778354 [1.2004225] [-0.4556072]\n",
      "320 0.027045159 [1.1910032] [-0.43419537]\n",
      "340 0.024562873 [1.1820269] [-0.4137899]\n",
      "360 0.022308392 [1.1734722] [-0.39434332]\n",
      "380 0.02026084 [1.1653197] [-0.37581062]\n",
      "400 0.0184012 [1.1575502] [-0.3581488]\n",
      "420 0.01671228 [1.150146] [-0.34131718]\n",
      "440 0.015178365 [1.1430898] [-0.32527655]\n",
      "460 0.013785225 [1.1363649] [-0.30998972]\n",
      "480 0.012519971 [1.1299564] [-0.2954213]\n",
      "500 0.011370835 [1.1238489] [-0.28153765]\n",
      "520 0.010327172 [1.1180283] [-0.26830634]\n",
      "540 0.009379288 [1.1124815] [-0.25569686]\n",
      "560 0.008518417 [1.1071953] [-0.24368003]\n",
      "580 0.007736575 [1.1021576] [-0.23222801]\n",
      "600 0.0070264847 [1.0973564] [-0.22131418]\n",
      "620 0.00638156 [1.0927811] [-0.21091318]\n",
      "640 0.0057958304 [1.0884207] [-0.20100103]\n",
      "660 0.0052638785 [1.0842654] [-0.19155477]\n",
      "680 0.004780742 [1.0803052] [-0.18255244]\n",
      "700 0.004341944 [1.076531] [-0.17397314]\n",
      "720 0.0039434195 [1.0729344] [-0.16579705]\n",
      "740 0.00358148 [1.0695068] [-0.15800516]\n",
      "760 0.0032527486 [1.0662402] [-0.15057948]\n",
      "780 0.0029542043 [1.0631273] [-0.1435028]\n",
      "800 0.0026830484 [1.0601602] [-0.13675864]\n",
      "820 0.0024367825 [1.0573329] [-0.13033143]\n",
      "840 0.0022131277 [1.0546386] [-0.12420624]\n",
      "860 0.0020100009 [1.0520707] [-0.11836903]\n",
      "880 0.0018255142 [1.0496236] [-0.11280609]\n",
      "900 0.00165796 [1.0472914] [-0.10750461]\n",
      "920 0.0015057843 [1.045069] [-0.10245228]\n",
      "940 0.0013675765 [1.042951] [-0.09763742]\n",
      "960 0.0012420578 [1.0409324] [-0.09304886]\n",
      "980 0.0011280534 [1.0390086] [-0.08867581]\n",
      "1000 0.0010245165 [1.0371754] [-0.08450837]\n",
      "1020 0.00093048223 [1.0354282] [-0.08053674]\n",
      "1040 0.00084507605 [1.0337633] [-0.07675181]\n",
      "1060 0.000767513 [1.0321765] [-0.07314476]\n",
      "1080 0.0006970688 [1.0306644] [-0.06970724]\n",
      "1100 0.0006330887 [1.0292232] [-0.06643128]\n",
      "1120 0.00057498226 [1.0278499] [-0.06330928]\n",
      "1140 0.00052220706 [1.026541] [-0.06033394]\n",
      "1160 0.00047427547 [1.0252937] [-0.05749846]\n",
      "1180 0.000430744 [1.024105] [-0.05479622]\n",
      "1200 0.0003912096 [1.0229721] [-0.05222098]\n",
      "1220 0.00035530166 [1.0218924] [-0.04976683]\n",
      "1240 0.0003226943 [1.0208637] [-0.04742805]\n",
      "1260 0.00029307095 [1.0198827] [-0.04519892]\n",
      "1280 0.00026616963 [1.0189484] [-0.04307457]\n",
      "1300 0.000241741 [1.018058] [-0.04105016]\n",
      "1320 0.00021955177 [1.0172093] [-0.03912092]\n",
      "1340 0.00019940066 [1.0164005] [-0.03728233]\n",
      "1360 0.00018109796 [1.0156298] [-0.03553016]\n",
      "1380 0.0001644761 [1.0148952] [-0.03386039]\n",
      "1400 0.00014937967 [1.0141952] [-0.03226904]\n",
      "1420 0.00013566916 [1.0135281] [-0.03075252]\n",
      "1440 0.00012321632 [1.0128922] [-0.02930723]\n",
      "1460 0.000111907255 [1.0122864] [-0.0279299]\n",
      "1480 0.00010163584 [1.011709] [-0.02661729]\n",
      "1500 9.2307375e-05 [1.0111587] [-0.02536638]\n",
      "1520 8.383467e-05 [1.0106343] [-0.02417429]\n",
      "1540 7.614148e-05 [1.0101347] [-0.02303828]\n",
      "1560 6.915203e-05 [1.0096582] [-0.02195559]\n",
      "1580 6.2805346e-05 [1.0092044] [-0.0209237]\n",
      "1600 5.704012e-05 [1.0087718] [-0.01994034]\n",
      "1620 5.1805695e-05 [1.0083596] [-0.01900321]\n",
      "1640 4.7050537e-05 [1.0079666] [-0.01811009]\n",
      "1660 4.2732263e-05 [1.0075923] [-0.01725899]\n",
      "1680 3.8809896e-05 [1.0072355] [-0.01644792]\n",
      "1700 3.5247944e-05 [1.0068955] [-0.01567495]\n",
      "1720 3.2013286e-05 [1.0065714] [-0.01493836]\n",
      "1740 2.9074445e-05 [1.0062625] [-0.01423627]\n",
      "1760 2.6406145e-05 [1.0059682] [-0.0135672]\n",
      "1780 2.398211e-05 [1.0056877] [-0.01292958]\n",
      "1800 2.1781016e-05 [1.0054204] [-0.01232195]\n",
      "1820 1.9782072e-05 [1.0051658] [-0.01174289]\n",
      "1840 1.7966757e-05 [1.004923] [-0.01119107]\n",
      "1860 1.6317454e-05 [1.0046916] [-0.01066514]\n",
      "1880 1.4819626e-05 [1.0044712] [-0.01016394]\n",
      "1900 1.3459638e-05 [1.004261] [-0.00968628]\n",
      "1920 1.22246665e-05 [1.0040609] [-0.00923109]\n",
      "1940 1.1102476e-05 [1.00387] [-0.00879729]\n",
      "1960 1.008352e-05 [1.0036881] [-0.0083839]\n",
      "1980 9.158422e-06 [1.0035149] [-0.00798995]\n",
      "2000 8.317453e-06 [1.0033497] [-0.00761447]\n"
     ]
    }
   ],
   "source": [
    "# Launch the graph in a session\n",
    "sess = tf.Session()\n",
    "# Initializes global variables in the graph\n",
    "sess.run(tf.global_variables_initializer())\n",
    "\n",
    "#Fit the line\n",
    "for step in range(2001):\n",
    "    sess.run(train)\n",
    "    if step % 20 == 0:\n",
    "        print(step, sess.run(cost), sess.run(W), sess.run(b))"
   ]
  },
  {
   "cell_type": "code",
   "execution_count": null,
   "metadata": {},
   "outputs": [],
   "source": []
  }
 ],
 "metadata": {
  "kernelspec": {
   "display_name": "Python 3",
   "language": "python",
   "name": "python3"
  },
  "language_info": {
   "codemirror_mode": {
    "name": "ipython",
    "version": 3
   },
   "file_extension": ".py",
   "mimetype": "text/x-python",
   "name": "python",
   "nbconvert_exporter": "python",
   "pygments_lexer": "ipython3",
   "version": "3.7.9"
  }
 },
 "nbformat": 4,
 "nbformat_minor": 4
}
