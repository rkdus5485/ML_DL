{
 "cells": [
  {
   "cell_type": "markdown",
   "metadata": {},
   "source": [
    "# Lab 3-2 Minimizing cost Gradient update"
   ]
  },
  {
   "cell_type": "code",
   "execution_count": 17,
   "metadata": {},
   "outputs": [],
   "source": [
    "import tensorflow.compat.v1 as tf\n",
    "tf.disable_v2_behavior()"
   ]
  },
  {
   "cell_type": "code",
   "execution_count": 18,
   "metadata": {},
   "outputs": [],
   "source": [
    "tf.set_random_seed(777)"
   ]
  },
  {
   "cell_type": "raw",
   "metadata": {},
   "source": [
    "### X and Y data"
   ]
  },
  {
   "cell_type": "code",
   "execution_count": 19,
   "metadata": {},
   "outputs": [],
   "source": [
    "x_data = [1,2,3]\n",
    "y_data = [1,2,3]"
   ]
  },
  {
   "cell_type": "markdown",
   "metadata": {},
   "source": [
    "### variable"
   ]
  },
  {
   "cell_type": "code",
   "execution_count": 20,
   "metadata": {},
   "outputs": [],
   "source": [
    "# y_data = W*x_data + b\n",
    "\n",
    "W = tf.Variable(tf.random_normal([1]), name='weight')\n",
    "\n",
    "X=tf.placeholder(tf.float32)\n",
    "Y=tf.placeholder(tf.float32)"
   ]
  },
  {
   "cell_type": "markdown",
   "metadata": {},
   "source": [
    "### our model"
   ]
  },
  {
   "cell_type": "code",
   "execution_count": 21,
   "metadata": {},
   "outputs": [],
   "source": [
    "# our hypothesis for linear model : X*W\n",
    "hypothesis = X*W\n",
    "\n",
    "# cost/loss function\n",
    "cost = tf.reduce_mean(tf.square(hypothesis - Y))"
   ]
  },
  {
   "cell_type": "markdown",
   "metadata": {},
   "source": [
    "### Minimize"
   ]
  },
  {
   "cell_type": "markdown",
   "metadata": {},
   "source": [
    "<img src='minimize.jpg'/>"
   ]
  },
  {
   "cell_type": "code",
   "execution_count": 22,
   "metadata": {},
   "outputs": [],
   "source": [
    "# minimize : W -= learning_rate*derivative\n",
    "learning_rate= 0.1\n",
    "gradient = tf.reduce_mean((W*X - Y)*X)\n",
    "descent = W - learning_rate*gradient\n",
    "update = W.assign(descent)"
   ]
  },
  {
   "cell_type": "markdown",
   "metadata": {},
   "source": [
    "- hypothesis 식 미분이 어려워지면\n",
    "- gradient 식이 복잡해짐\n",
    "- => 그러면 gradient에 직접 미분한 식을 적지 않고\n",
    "- optimizer 선언해서 minimize(cost) 하면 tf가 알아서 해줌\n",
    "- ML lab 3-3 참고"
   ]
  },
  {
   "cell_type": "markdown",
   "metadata": {},
   "source": [
    "### prepare session"
   ]
  },
  {
   "cell_type": "code",
   "execution_count": 23,
   "metadata": {},
   "outputs": [],
   "source": [
    "# launch the graph in a session\n",
    "sess=tf.Session()\n",
    "# Initializes global variables in the graph\n",
    "sess.run(tf.global_variables_initializer())"
   ]
  },
  {
   "cell_type": "markdown",
   "metadata": {},
   "source": [
    "### Fit the line"
   ]
  },
  {
   "cell_type": "code",
   "execution_count": 24,
   "metadata": {},
   "outputs": [
    {
     "name": "stdout",
     "output_type": "stream",
     "text": [
      "0 6.033153 [-0.13702172]\n",
      "1 1.7160965 [0.39358842]\n",
      "2 0.48813415 [0.6765805]\n",
      "3 0.1388471 [0.8275096]\n",
      "4 0.039494295 [0.9080051]\n",
      "5 0.011233918 [0.9509361]\n",
      "6 0.0031954357 [0.97383255]\n",
      "7 0.00090891664 [0.98604405]\n",
      "8 0.00025853832 [0.9925568]\n",
      "9 7.35413e-05 [0.9960303]\n",
      "10 2.091765e-05 [0.99788284]\n",
      "11 5.9499093e-06 [0.99887085]\n",
      "12 1.6921905e-06 [0.9993978]\n",
      "13 4.81307e-07 [0.99967885]\n",
      "14 1.3698406e-07 [0.9998287]\n",
      "15 3.8973795e-08 [0.9999086]\n",
      "16 1.1105257e-08 [0.99995124]\n",
      "17 3.1516645e-09 [0.999974]\n",
      "18 9.01732e-10 [0.9999861]\n",
      "19 2.5492378e-10 [0.9999926]\n",
      "20 7.316222e-11 [0.99999607]\n"
     ]
    }
   ],
   "source": [
    "for step in range(21):\n",
    "    sess.run(update, feed_dict={X:x_data, Y: y_data})\n",
    "    print(step, sess.run(cost, feed_dict={X:x_data, Y:y_data}), sess.run(W))"
   ]
  },
  {
   "cell_type": "code",
   "execution_count": null,
   "metadata": {},
   "outputs": [],
   "source": []
  },
  {
   "cell_type": "code",
   "execution_count": null,
   "metadata": {},
   "outputs": [],
   "source": []
  }
 ],
 "metadata": {
  "kernelspec": {
   "display_name": "Python 3",
   "language": "python",
   "name": "python3"
  },
  "language_info": {
   "codemirror_mode": {
    "name": "ipython",
    "version": 3
   },
   "file_extension": ".py",
   "mimetype": "text/x-python",
   "name": "python",
   "nbconvert_exporter": "python",
   "pygments_lexer": "ipython3",
   "version": "3.7.9"
  }
 },
 "nbformat": 4,
 "nbformat_minor": 4
}
